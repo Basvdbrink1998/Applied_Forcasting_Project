{
 "cells": [
  {
   "cell_type": "code",
   "execution_count": 8,
   "metadata": {},
   "outputs": [
    {
     "name": "stderr",
     "output_type": "stream",
     "text": [
      "Warning message:\n",
      "\"package 'fpp3' is in use and will not be installed\"also installing the dependencies 'xfun', 'tinytex', 'testthat', 'rmarkdown', 'vdiffr'\n",
      "\n"
     ]
    },
    {
     "name": "stdout",
     "output_type": "stream",
     "text": [
      "\n",
      "  There are binary versions available but the source versions are later:\n",
      "          binary source needs_compilation\n",
      "xfun        0.22   0.28              TRUE\n",
      "tinytex     0.31   0.35             FALSE\n",
      "testthat   3.0.2  3.1.0              TRUE\n",
      "rmarkdown    2.8   2.11             FALSE\n",
      "vdiffr     0.3.3  1.0.2              TRUE\n",
      "ggplot2    3.3.3  3.3.5             FALSE\n",
      "\n",
      "  Binaries will be installed\n",
      "package 'xfun' successfully unpacked and MD5 sums checked\n",
      "package 'testthat' successfully unpacked and MD5 sums checked\n",
      "package 'vdiffr' successfully unpacked and MD5 sums checked\n",
      "\n",
      "The downloaded binary packages are in\n",
      "\tC:\\Users\\basvd\\AppData\\Local\\Temp\\Rtmpe6nHFy\\downloaded_packages\n"
     ]
    },
    {
     "name": "stderr",
     "output_type": "stream",
     "text": [
      "installing the source packages 'tinytex', 'rmarkdown', 'ggplot2'\n",
      "\n",
      "Warning message in install.packages(\"ggplot2\", dependencies = TRUE):\n",
      "\"installation of package 'tinytex' had non-zero exit status\"Warning message in install.packages(\"ggplot2\", dependencies = TRUE):\n",
      "\"installation of package 'rmarkdown' had non-zero exit status\""
     ]
    },
    {
     "data": {
      "text/html": [
       "<ol class=list-inline>\n",
       "\t<li>'cli'</li>\n",
       "\t<li>'crayon'</li>\n",
       "\t<li>'dplyr'</li>\n",
       "\t<li>'fable'</li>\n",
       "\t<li>'fabletools'</li>\n",
       "\t<li>'feasts'</li>\n",
       "\t<li>'ggplot2'</li>\n",
       "\t<li>'lubridate'</li>\n",
       "\t<li>'magrittr'</li>\n",
       "\t<li>'purrr'</li>\n",
       "\t<li>'rstudioapi'</li>\n",
       "\t<li>'tibble'</li>\n",
       "\t<li>'tidyr'</li>\n",
       "\t<li>'tsibble'</li>\n",
       "\t<li>'tsibbledata'</li>\n",
       "\t<li>'urca'</li>\n",
       "</ol>\n"
      ],
      "text/latex": [
       "\\begin{enumerate*}\n",
       "\\item 'cli'\n",
       "\\item 'crayon'\n",
       "\\item 'dplyr'\n",
       "\\item 'fable'\n",
       "\\item 'fabletools'\n",
       "\\item 'feasts'\n",
       "\\item 'ggplot2'\n",
       "\\item 'lubridate'\n",
       "\\item 'magrittr'\n",
       "\\item 'purrr'\n",
       "\\item 'rstudioapi'\n",
       "\\item 'tibble'\n",
       "\\item 'tidyr'\n",
       "\\item 'tsibble'\n",
       "\\item 'tsibbledata'\n",
       "\\item 'urca'\n",
       "\\end{enumerate*}\n"
      ],
      "text/markdown": [
       "1. 'cli'\n",
       "2. 'crayon'\n",
       "3. 'dplyr'\n",
       "4. 'fable'\n",
       "5. 'fabletools'\n",
       "6. 'feasts'\n",
       "7. 'ggplot2'\n",
       "8. 'lubridate'\n",
       "9. 'magrittr'\n",
       "10. 'purrr'\n",
       "11. 'rstudioapi'\n",
       "12. 'tibble'\n",
       "13. 'tidyr'\n",
       "14. 'tsibble'\n",
       "15. 'tsibbledata'\n",
       "16. 'urca'\n",
       "\n",
       "\n"
      ],
      "text/plain": [
       " [1] \"cli\"         \"crayon\"      \"dplyr\"       \"fable\"       \"fabletools\" \n",
       " [6] \"feasts\"      \"ggplot2\"     \"lubridate\"   \"magrittr\"    \"purrr\"      \n",
       "[11] \"rstudioapi\"  \"tibble\"      \"tidyr\"       \"tsibble\"     \"tsibbledata\"\n",
       "[16] \"urca\"       "
      ]
     },
     "metadata": {},
     "output_type": "display_data"
    }
   ],
   "source": [
    "install.packages('fpp3', dependencies = TRUE)\n",
    "install.packages('ggplot2', dependencies = TRUE)\n",
    "library(fpp3)\n",
    "fpp3_packages()"
   ]
  },
  {
   "cell_type": "markdown",
   "metadata": {},
   "source": [
    "## Load Data"
   ]
  },
  {
   "cell_type": "code",
   "execution_count": 7,
   "metadata": {},
   "outputs": [],
   "source": [
    "calendar = read.csv(\"calendar_afcs2021.csv\")\n",
    "sell_prices = read.csv(\"sell_prices_afcs2021.csv\")\n",
    "\n",
    "sample_submission = read.csv(\"sample_submission_afcs2021.csv\")\n",
    "\n",
    "train_data = read.csv(\"sales_train_validation_afcs2021.csv\")\n",
    "test_data = read.csv(\"sales_test_validation_afcs2021.csv\")\n",
    "\n"
   ]
  },
  {
   "cell_type": "code",
   "execution_count": null,
   "metadata": {},
   "outputs": [],
   "source": []
  }
 ],
 "metadata": {
  "kernelspec": {
   "display_name": "R",
   "language": "R",
   "name": "ir"
  },
  "language_info": {
   "codemirror_mode": "r",
   "file_extension": ".r",
   "mimetype": "text/x-r-source",
   "name": "R",
   "pygments_lexer": "r",
   "version": "3.6.1"
  }
 },
 "nbformat": 4,
 "nbformat_minor": 5
}
