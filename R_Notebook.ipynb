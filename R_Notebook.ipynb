{
 "cells": [
  {
   "cell_type": "code",
   "execution_count": null,
   "id": "c5f98b45",
   "metadata": {},
   "outputs": [],
   "source": [
    "install.packages('fpp3', dependencies = TRUE)\n",
    "install.packages('ggplot2', dependencies = TRUE)\n",
    "library(fpp3)\n",
    "fpp3_packages()"
   ]
  },
  {
   "cell_type": "markdown",
   "id": "fa8bf974",
   "metadata": {},
   "source": [
    "## Load Data"
   ]
  },
  {
   "cell_type": "code",
   "execution_count": null,
   "id": "95747ff3",
   "metadata": {},
   "outputs": [],
   "source": [
    "calendar = read.csv(\"calendar_afcs2021.csv\")\n",
    "sell_prices = read.csv(\"sell_prices_afcs2021.csv\")\n",
    "\n",
    "sample_submission = read.csv(\"sample_submission_afcs2021.csv\")\n",
    "\n",
    "train_data = read.csv(\"sales_train_validation_afcs2021.csv\")\n",
    "test_data = read.csv(\"sales_test_validation_afcs2021.csv\")\n",
    "\n"
   ]
  }
 ],
 "metadata": {
  "kernelspec": {
   "display_name": "R",
   "language": "R",
   "name": "ir"
  },
  "language_info": {
   "codemirror_mode": "r",
   "file_extension": ".r",
   "mimetype": "text/x-r-source",
   "name": "R",
   "pygments_lexer": "r",
   "version": "3.6.1"
  }
 },
 "nbformat": 4,
 "nbformat_minor": 5
}
