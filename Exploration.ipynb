{
 "cells": [
  {
   "cell_type": "code",
   "execution_count": null,
   "metadata": {},
   "outputs": [],
   "source": [
    "import pandas as pd\n",
    "import numpy as np\n",
    "import calendar\n",
    "import seaborn as sns\n",
    "import matplotlib.pyplot as plt\n",
    "import scipy.cluster.hierarchy as spc\n",
    "\n",
    "import warnings\n",
    "import itertools\n",
    "import numpy as np\n",
    "import matplotlib.pyplot as plt\n",
    "warnings.filterwarnings(\"ignore\")\n",
    "plt.style.use('fivethirtyeight')\n",
    "import pandas as pd\n",
    "import statsmodels.api as sm\n",
    "import matplotlib\n",
    "\n",
    "from pylab import rcParams"
   ]
  },
  {
   "cell_type": "code",
   "execution_count": null,
   "metadata": {},
   "outputs": [],
   "source": [
    "np.random.seed(7)"
   ]
  },
  {
   "cell_type": "code",
   "execution_count": null,
   "metadata": {},
   "outputs": [],
   "source": [
    "store_calendar = pd.read_csv(\"calendar_afcs2021.csv\", index_col=0)\n",
    "date_converter = dict(zip(store_calendar['d'], store_calendar.index))\n",
    "\n",
    "sell_prices = pd.read_csv(\"sell_prices_afcs2021.csv\", index_col=0)\n",
    "\n",
    "sample_submission = pd.read_csv(\"sample_submission_afcs2021.csv\", index_col=0)\n",
    "\n",
    "train_data = pd.read_csv(\"sales_train_validation_afcs2021.csv\", index_col=0)\n",
    "train_data = train_data.rename(columns=date_converter).T\n",
    "train_data.index = pd.to_datetime(train_data.index)\n",
    "\n",
    "test_data = pd.read_csv(\"sales_test_validation_afcs2021.csv\", index_col=0)\n",
    "test_data = test_data.rename(columns=date_converter).T\n",
    "test_data.index = pd.to_datetime(test_data.index)\n",
    "\n",
    "total_sales = train_data.T.sum()"
   ]
  },
  {
   "cell_type": "code",
   "execution_count": null,
   "metadata": {},
   "outputs": [],
   "source": [
    "store_calendar"
   ]
  },
  {
   "cell_type": "markdown",
   "metadata": {},
   "source": [
    "# What does the data look like?"
   ]
  },
  {
   "cell_type": "code",
   "execution_count": null,
   "metadata": {},
   "outputs": [],
   "source": [
    "train_data"
   ]
  },
  {
   "cell_type": "code",
   "execution_count": null,
   "metadata": {},
   "outputs": [],
   "source": [
    "desc = train_data.describe()\n",
    "desc"
   ]
  },
  {
   "cell_type": "code",
   "execution_count": null,
   "metadata": {},
   "outputs": [],
   "source": [
    "desc.loc['max'].idxmax()"
   ]
  },
  {
   "cell_type": "code",
   "execution_count": null,
   "metadata": {},
   "outputs": [],
   "source": []
  },
  {
   "cell_type": "code",
   "execution_count": null,
   "metadata": {},
   "outputs": [],
   "source": [
    "train_data['FOODS_3_230_TX_3_validation'].apply(np.sqrt).plot()"
   ]
  },
  {
   "cell_type": "code",
   "execution_count": null,
   "metadata": {},
   "outputs": [],
   "source": [
    "train_data['FOODS_3_021_TX_3_validation'].hist()\n",
    "\n"
   ]
  },
  {
   "cell_type": "code",
   "execution_count": null,
   "metadata": {},
   "outputs": [],
   "source": [
    "sample = np.random.randint(100, 800, 4)\n",
    "fig, axes = plt.subplots(2, 2)\n",
    "c = 0\n",
    "for i in range(2):\n",
    "    for j in range(2):\n",
    "        axes[i, j].set_title('Sample of product: ' + str(sample[c]))\n",
    "        column_name = 'FOODS_3_' + str(sample[c]) + '_TX_3_validation'\n",
    "        train_data[column_name].hist(ax = axes[i,j])\n",
    "        axes[i,j].set(xlabel='n products sold in a day', ylabel='n occurrences in data')\n",
    "        c += 1\n",
    "fig.tight_layout(pad=1.0)\n",
    "plt.savefig('figures/sale_dist.png')\n",
    "plt.show()"
   ]
  },
  {
   "cell_type": "code",
   "execution_count": null,
   "metadata": {},
   "outputs": [],
   "source": []
  },
  {
   "cell_type": "code",
   "execution_count": null,
   "metadata": {},
   "outputs": [],
   "source": []
  },
  {
   "cell_type": "code",
   "execution_count": null,
   "metadata": {},
   "outputs": [],
   "source": []
  },
  {
   "cell_type": "code",
   "execution_count": null,
   "metadata": {},
   "outputs": [],
   "source": []
  },
  {
   "cell_type": "markdown",
   "metadata": {},
   "source": [
    "# Total sales"
   ]
  },
  {
   "cell_type": "code",
   "execution_count": null,
   "metadata": {},
   "outputs": [],
   "source": [
    "ax = total_sales.plot()\n",
    "ax.set(xlabel='date (day)', ylabel='amount of products sold')\n",
    "plt.savefig('figures/total_sales.png')\n",
    "plt.show()"
   ]
  },
  {
   "cell_type": "markdown",
   "metadata": {},
   "source": [
    "We see some days where the total sales are almost zero, and one very high peak. Lets explore that."
   ]
  },
  {
   "cell_type": "code",
   "execution_count": null,
   "metadata": {},
   "outputs": [],
   "source": [
    "very_low_days = total_sales[total_sales < 100].index\n",
    "print(very_low_days)"
   ]
  },
  {
   "cell_type": "markdown",
   "metadata": {},
   "source": [
    "Ah, so the store seems to be closed on chistmas day (25th of december)"
   ]
  },
  {
   "cell_type": "code",
   "execution_count": null,
   "metadata": {},
   "outputs": [],
   "source": [
    "very_high_day = total_sales[total_sales > 3000].index\n",
    "print(very_high_day)"
   ]
  },
  {
   "cell_type": "code",
   "execution_count": null,
   "metadata": {},
   "outputs": [],
   "source": []
  },
  {
   "cell_type": "code",
   "execution_count": null,
   "metadata": {},
   "outputs": [],
   "source": []
  },
  {
   "cell_type": "markdown",
   "metadata": {},
   "source": [
    "Hmmm, it wasnt a really special day it seems. Maybe there was a massive sale or something like that? We'll look at that some other time"
   ]
  },
  {
   "cell_type": "code",
   "execution_count": null,
   "metadata": {},
   "outputs": [],
   "source": []
  },
  {
   "cell_type": "code",
   "execution_count": null,
   "metadata": {},
   "outputs": [],
   "source": [
    "rcParams['figure.figsize'] = 18, 8\n",
    "before = total_sales[total_sales.index.year < 2014]\n",
    "after = before[before.index.year > 2012]\n",
    "\n",
    "decomposition = sm.tsa.seasonal_decompose(after, model='additive')\n",
    "fig = decomposition.plot()\n",
    "plt.savefig('figures/total_sales_decomp.png')\n",
    "plt.show()"
   ]
  },
  {
   "cell_type": "code",
   "execution_count": null,
   "metadata": {},
   "outputs": [],
   "source": [
    "decomposition.seasonal"
   ]
  },
  {
   "cell_type": "markdown",
   "metadata": {},
   "source": [
    "# What are some special days in the year?"
   ]
  },
  {
   "cell_type": "markdown",
   "metadata": {},
   "source": [
    "Lets split the data set by year"
   ]
  },
  {
   "cell_type": "code",
   "execution_count": null,
   "metadata": {},
   "outputs": [],
   "source": []
  },
  {
   "cell_type": "code",
   "execution_count": null,
   "metadata": {},
   "outputs": [],
   "source": [
    "total_sales_by_year = dict()\n",
    "for year in range(2011, 2016):\n",
    "    total_sales_by_year[year] = total_sales[total_sales.index.year == year]"
   ]
  },
  {
   "cell_type": "code",
   "execution_count": null,
   "metadata": {},
   "outputs": [],
   "source": [
    "total_sales_by_year[2015]"
   ]
  },
  {
   "cell_type": "code",
   "execution_count": null,
   "metadata": {},
   "outputs": [],
   "source": [
    "def get_sales_by_month(df):\n",
    "    total_sales_by_month = dict()\n",
    "    for month in range(1, 13):\n",
    "        total_sales_by_month[month] = df[df.index.month == month]\n",
    "    return total_sales_by_month\n",
    "\n",
    "def get_highest_month(sales_by_month):\n",
    "    return calendar.month_abbr[np.array([sum(sales_by_month[month].values) for month in sales_by_month.keys()]).argmax() + 1]\n",
    "\n",
    "def get_lowest_month(sales_by_month):\n",
    "    return calendar.month_abbr[np.array([sum(sales_by_month[month].values) for month in sales_by_month.keys()]).argmin() + 1]"
   ]
  },
  {
   "cell_type": "code",
   "execution_count": null,
   "metadata": {},
   "outputs": [],
   "source": [
    "for year in total_sales_by_year.keys():\n",
    "    sales = total_sales_by_month = get_sales_by_month(total_sales_by_year[year])\n",
    "    hm = get_highest_month(total_sales_by_month)\n",
    "    lm = get_lowest_month(total_sales_by_month)\n",
    "    print(\"In the year \" + str(year) + \", the highest sale month was: \" + hm + \". and the lowest was: \" + lm)"
   ]
  },
  {
   "cell_type": "code",
   "execution_count": null,
   "metadata": {},
   "outputs": [],
   "source": []
  },
  {
   "cell_type": "markdown",
   "metadata": {},
   "source": [
    "# Preprocessing the days"
   ]
  },
  {
   "cell_type": "code",
   "execution_count": null,
   "metadata": {},
   "outputs": [],
   "source": [
    "daysinweek = 7\n",
    "store_calendar['sin_wday'] = np.sin(2*np.pi*store_calendar.wday/daysinweek)\n",
    "store_calendar['cos_wday'] = np.cos(2*np.pi*store_calendar.wday/daysinweek)"
   ]
  },
  {
   "cell_type": "code",
   "execution_count": null,
   "metadata": {},
   "outputs": [],
   "source": [
    "monthsinyear = 12\n",
    "store_calendar['sin_month'] = np.sin(2*np.pi*store_calendar.month/monthsinyear)\n",
    "store_calendar['cos_month'] = np.cos(2*np.pi*store_calendar.month/monthsinyear)"
   ]
  },
  {
   "cell_type": "code",
   "execution_count": null,
   "metadata": {},
   "outputs": [],
   "source": [
    "fig, axes = plt.subplots(1, 2)\n",
    "axes[0].scatter(store_calendar['sin_wday'], store_calendar['cos_wday'])\n",
    "axes[0].set_title('Transformed days of the week')\n",
    "\n",
    "axes[1].scatter(store_calendar['sin_month'], store_calendar['cos_month'])\n",
    "axes[1].set_title('Transformed months of the year')\n",
    "\n",
    "plt.savefig('figures/day_dist.png')\n",
    "plt.show()"
   ]
  },
  {
   "cell_type": "code",
   "execution_count": null,
   "metadata": {},
   "outputs": [],
   "source": []
  },
  {
   "cell_type": "code",
   "execution_count": null,
   "metadata": {},
   "outputs": [],
   "source": [
    "store_calendar.to_csv(\"Calendar_with_cycled_days.csv\")"
   ]
  },
  {
   "cell_type": "code",
   "execution_count": null,
   "metadata": {},
   "outputs": [],
   "source": []
  },
  {
   "cell_type": "code",
   "execution_count": null,
   "metadata": {},
   "outputs": [],
   "source": []
  },
  {
   "cell_type": "code",
   "execution_count": null,
   "metadata": {},
   "outputs": [],
   "source": []
  },
  {
   "cell_type": "markdown",
   "metadata": {},
   "source": [
    "# Unsupervised Clustering"
   ]
  },
  {
   "cell_type": "code",
   "execution_count": null,
   "metadata": {},
   "outputs": [],
   "source": [
    "ts_train_data = train_data.transpose()\n",
    "ts_train_data.index = pd.to_datetime(ts_train_data.index)\n",
    "ts_train_data"
   ]
  },
  {
   "cell_type": "code",
   "execution_count": null,
   "metadata": {},
   "outputs": [],
   "source": [
    "all_sales_by_year = dict()\n",
    "for year in range(2011, 2016):\n",
    "    year_data = ts_train_data[ts_train_data.index.year == year]\n",
    "    start_month = year_data.index.month\n",
    "    start_day = year_data.index[0].day\n",
    "    year_data.index = list(map('-'.join, zip(np.array(year_data.index.month).astype(str), np.array(year_data.index.day).astype(str))))\n",
    "    all_sales_by_year[year] = year_data"
   ]
  },
  {
   "cell_type": "code",
   "execution_count": null,
   "metadata": {},
   "outputs": [],
   "source": [
    "total = all_sales_by_year[list(all_sales_by_year.keys())[0]]\n",
    "for year in list(all_sales_by_year.keys())[1:]:\n",
    "    total = total.add(all_sales_by_year[year], fill_value=0)"
   ]
  },
  {
   "cell_type": "code",
   "execution_count": null,
   "metadata": {},
   "outputs": [],
   "source": [
    "total"
   ]
  },
  {
   "cell_type": "code",
   "execution_count": null,
   "metadata": {},
   "outputs": [],
   "source": [
    "dt = []\n",
    "for i in total.index:\n",
    "    dt.append(\"2000-\" + i)\n",
    "total.index = dt\n",
    "total.index = pd.to_datetime(total.index)"
   ]
  },
  {
   "cell_type": "code",
   "execution_count": null,
   "metadata": {},
   "outputs": [],
   "source": [
    "total[\"FOODS_3_420_TX_3_validation\"].plot()"
   ]
  },
  {
   "cell_type": "code",
   "execution_count": null,
   "metadata": {},
   "outputs": [],
   "source": [
    "total.corr()"
   ]
  },
  {
   "cell_type": "code",
   "execution_count": null,
   "metadata": {},
   "outputs": [],
   "source": [
    "corr = total.corr().values\n",
    "\n",
    "pdist = spc.distance.pdist(corr)\n",
    "linkage = spc.linkage(pdist, method='complete')\n",
    "idx = spc.fcluster(linkage, 0.5 * pdist.max(), 'distance')"
   ]
  },
  {
   "cell_type": "code",
   "execution_count": null,
   "metadata": {},
   "outputs": [],
   "source": [
    "linkage"
   ]
  },
  {
   "cell_type": "code",
   "execution_count": null,
   "metadata": {},
   "outputs": [],
   "source": [
    "df = total.loc[:, \"FOODS_3_001_TX_3_validation\": \"FOODS_3_100_TX_3_validation\"]\n",
    "correlations = df.corr()"
   ]
  },
  {
   "cell_type": "code",
   "execution_count": null,
   "metadata": {},
   "outputs": [],
   "source": [
    "from scipy.cluster.hierarchy import linkage, dendrogram, fcluster\n",
    "from scipy.spatial.distance import squareform\n",
    "\n",
    "plt.figure(figsize=(12,5))\n",
    "dissimilarity = 1 - abs(correlations)\n",
    "Z = linkage(squareform(dissimilarity), 'complete')\n",
    "\n",
    "dendrogram(Z, labels=df.columns, orientation='top', \n",
    "           leaf_rotation=90);"
   ]
  },
  {
   "cell_type": "code",
   "execution_count": null,
   "metadata": {},
   "outputs": [],
   "source": []
  },
  {
   "cell_type": "code",
   "execution_count": null,
   "metadata": {},
   "outputs": [],
   "source": []
  },
  {
   "cell_type": "code",
   "execution_count": null,
   "metadata": {},
   "outputs": [],
   "source": []
  }
 ],
 "metadata": {
  "kernelspec": {
   "display_name": "Python 3",
   "language": "python",
   "name": "python3"
  },
  "language_info": {
   "codemirror_mode": {
    "name": "ipython",
    "version": 3
   },
   "file_extension": ".py",
   "mimetype": "text/x-python",
   "name": "python",
   "nbconvert_exporter": "python",
   "pygments_lexer": "ipython3",
   "version": "3.8.3"
  }
 },
 "nbformat": 4,
 "nbformat_minor": 4
}
