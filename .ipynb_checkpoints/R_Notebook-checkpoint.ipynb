{
 "cells": [
  {
   "cell_type": "code",
   "execution_count": null,
   "metadata": {},
   "outputs": [
    {
     "name": "stdout",
     "output_type": "stream",
     "text": [
      "package 'fpp3' successfully unpacked and MD5 sums checked\n",
      "\n",
      "The downloaded binary packages are in\n",
      "\tC:\\Users\\basvd\\AppData\\Local\\Temp\\Rtmpe6nHFy\\downloaded_packages\n"
     ]
    },
    {
     "name": "stderr",
     "output_type": "stream",
     "text": [
      "also installing the dependencies 'listenv', 'parallelly', 'future', 'globals', 'future.apply', 'SQUAREM', 'lava', 'prodlim', 'iterators', 'gower', 'ipred', 'timeDate', 'foreach', 'ModelMetrics', 'plyr', 'pROC', 'recipes', 'reshape2', 'proxy', 'lazyeval', 'png', 'jpeg', 'checkmate', 'zoo', 'Rcpp', 'matrixStats', 'caret', 'RcppArmadillo', 'xfun', 'e1071', 'wk', 'rex', 'systemfonts', 'textshaping', 'survival', 'Formula', 'latticeExtra', 'gridExtra', 'data.table', 'htmlTable', 'viridis', 'deldir', 'RcppEigen', 'sp', 'mvtnorm', 'TH.data', 'sandwich', 'htmlwidgets', 'SparseM', 'MatrixModels', 'conquer', 'tinytex', 'jquerylib', 'classInt', 'DBI', 's2', 'units', 'testthat', 'covr', 'ragg', 'ggplot2movies', 'hexbin', 'Hmisc', 'interp', 'mapproj', 'maps', 'maptools', 'multcomp', 'profvis', 'quantreg', 'rgeos', 'rmarkdown', 'sf', 'svglite', 'vdiffr'\n",
      "\n"
     ]
    },
    {
     "name": "stdout",
     "output_type": "stream",
     "text": [
      "\n",
      "  There are binary versions available but the source versions are later:\n",
      "                  binary     source needs_compilation\n",
      "parallelly        1.25.0     1.29.0             FALSE\n",
      "future            1.21.0     1.23.0             FALSE\n",
      "future.apply       1.7.0      1.8.1             FALSE\n",
      "lava               1.6.9     1.6.10             FALSE\n",
      "ipred             0.9-11     0.9-12              TRUE\n",
      "pROC            1.17.0.1     1.18.0              TRUE\n",
      "recipes           0.1.16     0.1.17             FALSE\n",
      "proxy             0.4-25     0.4-26              TRUE\n",
      "jpeg             0.1-8.1      0.1-9              TRUE\n",
      "Rcpp               1.0.6      1.0.7              TRUE\n",
      "matrixStats       0.58.0     0.61.0              TRUE\n",
      "caret             6.0-86     6.0-90              TRUE\n",
      "RcppArmadillo 0.10.4.0.0 0.10.7.3.0              TRUE\n",
      "xfun                0.22       0.28              TRUE\n",
      "e1071              1.7-6      1.7-9              TRUE\n",
      "wk                 0.4.1      0.5.0              TRUE\n",
      "rex                1.2.0      1.2.1             FALSE\n",
      "systemfonts        1.0.2      1.0.3              TRUE\n",
      "textshaping        0.3.4      0.3.6              TRUE\n",
      "survival          3.2-11     3.2-13              TRUE\n",
      "data.table        1.14.0     1.14.2              TRUE\n",
      "htmlTable          2.1.0      2.3.0             FALSE\n",
      "viridis            0.6.1      0.6.2             FALSE\n",
      "deldir            0.2-10      1.0-6              TRUE\n",
      "sp                 1.4-5      1.4-6              TRUE\n",
      "mvtnorm            1.1-1      1.1-3              TRUE\n",
      "TH.data           1.0-10      1.1-0             FALSE\n",
      "sandwich           3.0-0      3.0-1             FALSE\n",
      "htmlwidgets        1.5.3      1.5.4             FALSE\n",
      "conquer            1.0.2      1.2.1              TRUE\n",
      "tinytex             0.31       0.35             FALSE\n",
      "s2                 1.0.4      1.0.7              TRUE\n",
      "units              0.7-1      0.7-2              TRUE\n",
      "testthat           3.0.2      3.1.0              TRUE\n",
      "ragg               1.1.2      1.2.0              TRUE\n",
      "Hmisc              4.5-0      4.6-0              TRUE\n",
      "maps               3.3.0      3.4.0              TRUE\n",
      "maptools           1.1-1      1.1-2              TRUE\n",
      "quantreg            5.85       5.86              TRUE\n",
      "rgeos              0.5-5      0.5-8              TRUE\n",
      "rmarkdown            2.8       2.11             FALSE\n",
      "sf                 0.9-8      1.0-4              TRUE\n",
      "vdiffr             0.3.3      1.0.2              TRUE\n",
      "ggplot2            3.3.3      3.3.5             FALSE\n",
      "\n",
      "  Binaries will be installed\n",
      "package 'listenv' successfully unpacked and MD5 sums checked\n",
      "package 'globals' successfully unpacked and MD5 sums checked\n",
      "package 'SQUAREM' successfully unpacked and MD5 sums checked\n",
      "package 'prodlim' successfully unpacked and MD5 sums checked\n",
      "package 'iterators' successfully unpacked and MD5 sums checked\n",
      "package 'gower' successfully unpacked and MD5 sums checked\n",
      "package 'ipred' successfully unpacked and MD5 sums checked\n",
      "package 'timeDate' successfully unpacked and MD5 sums checked\n",
      "package 'foreach' successfully unpacked and MD5 sums checked\n",
      "package 'ModelMetrics' successfully unpacked and MD5 sums checked\n",
      "package 'plyr' successfully unpacked and MD5 sums checked\n",
      "package 'pROC' successfully unpacked and MD5 sums checked\n",
      "package 'reshape2' successfully unpacked and MD5 sums checked\n",
      "package 'proxy' successfully unpacked and MD5 sums checked\n",
      "package 'lazyeval' successfully unpacked and MD5 sums checked\n",
      "package 'png' successfully unpacked and MD5 sums checked\n",
      "package 'jpeg' successfully unpacked and MD5 sums checked\n",
      "package 'checkmate' successfully unpacked and MD5 sums checked\n",
      "package 'zoo' successfully unpacked and MD5 sums checked\n",
      "package 'Rcpp' successfully unpacked and MD5 sums checked\n"
     ]
    },
    {
     "name": "stderr",
     "output_type": "stream",
     "text": [
      "Warning message:\n",
      "\"cannot remove prior installation of package 'Rcpp'\"Warning message in file.copy(savedcopy, lib, recursive = TRUE):\n",
      "\"problem copying C:\\Users\\basvd\\anaconda3\\Lib\\R\\library\\00LOCK\\Rcpp\\libs\\x64\\Rcpp.dll to C:\\Users\\basvd\\anaconda3\\Lib\\R\\library\\Rcpp\\libs\\x64\\Rcpp.dll: Permission denied\"Warning message:\n",
      "\"restored 'Rcpp'\""
     ]
    },
    {
     "name": "stdout",
     "output_type": "stream",
     "text": [
      "package 'matrixStats' successfully unpacked and MD5 sums checked\n",
      "package 'caret' successfully unpacked and MD5 sums checked\n",
      "package 'RcppArmadillo' successfully unpacked and MD5 sums checked\n",
      "package 'xfun' successfully unpacked and MD5 sums checked\n",
      "package 'e1071' successfully unpacked and MD5 sums checked\n",
      "package 'wk' successfully unpacked and MD5 sums checked\n",
      "package 'systemfonts' successfully unpacked and MD5 sums checked\n",
      "package 'textshaping' successfully unpacked and MD5 sums checked\n",
      "package 'survival' successfully unpacked and MD5 sums checked\n",
      "package 'Formula' successfully unpacked and MD5 sums checked\n",
      "package 'latticeExtra' successfully unpacked and MD5 sums checked\n",
      "package 'gridExtra' successfully unpacked and MD5 sums checked\n",
      "package 'data.table' successfully unpacked and MD5 sums checked\n",
      "package 'deldir' successfully unpacked and MD5 sums checked\n",
      "package 'RcppEigen' successfully unpacked and MD5 sums checked\n",
      "package 'sp' successfully unpacked and MD5 sums checked\n",
      "package 'mvtnorm' successfully unpacked and MD5 sums checked\n",
      "package 'SparseM' successfully unpacked and MD5 sums checked\n",
      "package 'MatrixModels' successfully unpacked and MD5 sums checked\n",
      "package 'conquer' successfully unpacked and MD5 sums checked\n",
      "package 'jquerylib' successfully unpacked and MD5 sums checked\n",
      "package 'classInt' successfully unpacked and MD5 sums checked\n",
      "package 'DBI' successfully unpacked and MD5 sums checked\n",
      "package 's2' successfully unpacked and MD5 sums checked\n",
      "package 'units' successfully unpacked and MD5 sums checked\n",
      "package 'testthat' successfully unpacked and MD5 sums checked\n",
      "package 'covr' successfully unpacked and MD5 sums checked\n",
      "package 'ragg' successfully unpacked and MD5 sums checked\n",
      "package 'ggplot2movies' successfully unpacked and MD5 sums checked\n",
      "package 'hexbin' successfully unpacked and MD5 sums checked\n",
      "package 'Hmisc' successfully unpacked and MD5 sums checked\n",
      "package 'interp' successfully unpacked and MD5 sums checked\n",
      "package 'mapproj' successfully unpacked and MD5 sums checked\n",
      "package 'maps' successfully unpacked and MD5 sums checked\n",
      "package 'maptools' successfully unpacked and MD5 sums checked\n",
      "package 'multcomp' successfully unpacked and MD5 sums checked\n",
      "package 'profvis' successfully unpacked and MD5 sums checked\n",
      "package 'quantreg' successfully unpacked and MD5 sums checked\n",
      "package 'rgeos' successfully unpacked and MD5 sums checked\n",
      "package 'sf' successfully unpacked and MD5 sums checked\n",
      "package 'svglite' successfully unpacked and MD5 sums checked\n",
      "package 'vdiffr' successfully unpacked and MD5 sums checked\n",
      "\n",
      "The downloaded binary packages are in\n",
      "\tC:\\Users\\basvd\\AppData\\Local\\Temp\\Rtmpe6nHFy\\downloaded_packages\n"
     ]
    },
    {
     "name": "stderr",
     "output_type": "stream",
     "text": [
      "installing the source packages 'parallelly', 'future', 'future.apply', 'lava', 'recipes', 'rex', 'htmlTable', 'viridis', 'TH.data', 'sandwich', 'htmlwidgets', 'tinytex', 'rmarkdown', 'ggplot2'\n",
      "\n",
      "Warning message in install.packages(\"ggplot2\", dependencies = TRUE):\n",
      "\"installation of package 'recipes' had non-zero exit status\"Warning message in install.packages(\"ggplot2\", dependencies = TRUE):\n",
      "\"installation of package 'tinytex' had non-zero exit status\""
     ]
    }
   ],
   "source": [
    "install.packages('fpp3', dependencies = TRUE)\n",
    "install.packages('ggplot2', dependencies = TRUE)\n",
    "library(fpp3)\n",
    "fpp3_packages()"
   ]
  },
  {
   "cell_type": "markdown",
   "metadata": {},
   "source": [
    "## Load Data"
   ]
  },
  {
   "cell_type": "code",
   "execution_count": null,
   "metadata": {},
   "outputs": [],
   "source": [
    "calendar = read.csv(\"calendar_afcs2021.csv\")\n",
    "sell_prices = read.csv(\"sell_prices_afcs2021.csv\")\n",
    "\n",
    "sample_submission = read.csv(\"sample_submission_afcs2021.csv\")\n",
    "\n",
    "train_data = read.csv(\"sales_train_validation_afcs2021.csv\")\n",
    "test_data = read.csv(\"sales_test_validation_afcs2021.csv\")\n",
    "\n"
   ]
  },
  {
   "cell_type": "code",
   "execution_count": null,
   "metadata": {},
   "outputs": [],
   "source": []
  }
 ],
 "metadata": {
  "kernelspec": {
   "display_name": "R",
   "language": "R",
   "name": "ir"
  },
  "language_info": {
   "codemirror_mode": "r",
   "file_extension": ".r",
   "mimetype": "text/x-r-source",
   "name": "R",
   "pygments_lexer": "r",
   "version": "3.6.1"
  }
 },
 "nbformat": 4,
 "nbformat_minor": 5
}
